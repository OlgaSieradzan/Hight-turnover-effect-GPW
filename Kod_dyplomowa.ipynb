{
 "cells": [
  {
   "cell_type": "markdown",
   "metadata": {},
   "source": [
    "# Projekt dyplomowy\n",
    "## Olga Sieradzan"
   ]
  },
  {
   "cell_type": "markdown",
   "metadata": {},
   "source": [
    "## Pobór danych"
   ]
  },
  {
   "cell_type": "code",
   "execution_count": 10,
   "metadata": {},
   "outputs": [],
   "source": [
    "import pandas as pd\n",
    "import numpy as np\n",
    "import matplotlib.pyplot as plt\n",
    "\n",
    "file_path1 = \"C:/Users/olgas/OneDrive/Pulpit/studia/Praca dyplomowa/Dane/GPW day colse adj USD.xlsx\"\n",
    "file_path2 = \"C:/Users/olgas/OneDrive/Pulpit/studia/Praca dyplomowa/Dane/GPW day turnover USD.xlsx\"\n",
    "\n",
    "prices = pd.read_excel(file_path1)\n",
    "turnovers = pd.read_excel(file_path2)"
   ]
  },
  {
   "cell_type": "markdown",
   "metadata": {},
   "source": [
    "## Czyszczenie danych"
   ]
  },
  {
   "cell_type": "code",
   "execution_count": 11,
   "metadata": {},
   "outputs": [],
   "source": [
    "def clean_data(df, determinant) :\n",
    "    missing_values = df[df[determinant].isna()]['Date'].tolist() #Stworzenie listy gdzie np. KGHM nie ma odczytów z giełdy\n",
    "    prices_cl = prices[~prices['Date'].isin(missing_values)]\n",
    "    turnovers_cl = turnovers[~turnovers['Date'].isin(missing_values)]\n",
    "    return prices_cl, turnovers_cl\n",
    "\n",
    "prices_cleaned, turnovers_cleaned = clean_data(prices, 'KGH:PL') # Zapisane wyników ( ubyło 209 wierszy )"
   ]
  },
  {
   "cell_type": "markdown",
   "metadata": {},
   "source": [
    "## Wyznaczenie maksymalnych obrotów w okresie referencyjnym"
   ]
  },
  {
   "cell_type": "code",
   "execution_count": 3,
   "metadata": {},
   "outputs": [],
   "source": [
    "def max_turnover(df, window):\n",
    "    result = pd.DataFrame(columns=df.columns) # Pusty df do wypełnienia\n",
    "       \n",
    "    for col in df.columns:\n",
    "        if col == 'Date':\n",
    "            result['Date'] = df['Date'][window-1:].reset_index(drop=True)\n",
    "        else:\n",
    "            \n",
    "            max_values = [] # Pusta lista którą póżniej wypełnimy maksymalnymi wartościami\n",
    "            for i in range(len(df) - window + 1): # Indeksowanie od 0 dlatego +1\n",
    "                window_data = df[col][i:i+window] # Wybieram dane np. od 0 do 19 \n",
    "                if window_data.isna().any():\n",
    "                    max_values.append(np.nan) # Jeżeli w tych 20 danych jest NA to dodaje NA\n",
    "                else:\n",
    "                    max_values.append(window_data.max()) # W przeciwnym przypadku dodaje maksymalną wartośc z tych np. 20 dni\n",
    "            \n",
    "            result[col] = pd.Series(max_values)# Zapisujemy obliczone wartości do nowej kolumny\n",
    "    \n",
    "    return result\n",
    "\n",
    "turnovers_20 = max_turnover(turnovers_cleaned, 20)\n",
    "turnovers_10 = max_turnover(turnovers_cleaned, 10)\n",
    "turnovers_50 = max_turnover(turnovers_cleaned, 50)\n",
    "\n",
    "\n",
    "\n"
   ]
  },
  {
   "cell_type": "markdown",
   "metadata": {},
   "source": [
    "## Wyznaczenie iloczynów obrót / obrót max"
   ]
  },
  {
   "cell_type": "code",
   "execution_count": 5,
   "metadata": {},
   "outputs": [],
   "source": [
    "def date_max_turnovers(df, turn, window): # argimenty to : pierwotna tabela/ taleba z maxami / okres referencyjny\n",
    "    result = pd.DataFrame(columns=df.columns) # Pusty df do wypełnienia\n",
    "    \n",
    "   \n",
    "    \n",
    "    for col in df.columns:\n",
    "        if col == 'Date':\n",
    "            result['Date'] = df['Date'][window:].reset_index(drop=True)\n",
    "        else:\n",
    "            max_values = [] # max values na początku każdej iteracji po kolumnach powinna być pusta\n",
    "            for i in range(len(df)- window):\n",
    "                if df[col].iloc[window] > turn[col].iloc[i]:\n",
    "                    max_values.append(df[col].iloc[i + window]/turn[col].iloc[i])\n",
    "                else :\n",
    "                    max_values.append(np.nan)\n",
    "            result[col] = pd.Series(max_values).reset_index(drop=True)\n",
    "  \n",
    "    return result\n",
    "\n",
    "result_20 = date_max_turnovers(turnovers_cleaned, turnovers_20, 20)\n",
    "result_10 = date_max_turnovers(turnovers_cleaned, turnovers_10, 10)\n",
    "result_50 = date_max_turnovers(turnovers_cleaned, turnovers_50, 50)\n",
    "\n",
    "\n"
   ]
  },
  {
   "cell_type": "markdown",
   "metadata": {},
   "source": [
    "## Wyznaczenie stóp zwrotu różne strategie\n"
   ]
  },
  {
   "cell_type": "code",
   "execution_count": 12,
   "metadata": {},
   "outputs": [
    {
     "ename": "TypeError",
     "evalue": "unsupported operand type(s) for -: 'str' and 'str'",
     "output_type": "error",
     "traceback": [
      "\u001b[1;31m---------------------------------------------------------------------------\u001b[0m",
      "\u001b[1;31mTypeError\u001b[0m                                 Traceback (most recent call last)",
      "Cell \u001b[1;32mIn[12], line 20\u001b[0m\n\u001b[0;32m     16\u001b[0m             result[col] \u001b[38;5;241m=\u001b[39m pd\u001b[38;5;241m.\u001b[39mSeries(return_values)\u001b[38;5;241m.\u001b[39mreset_index(drop\u001b[38;5;241m=\u001b[39m\u001b[38;5;28;01mTrue\u001b[39;00m)\n\u001b[0;32m     18\u001b[0m     \u001b[38;5;28;01mreturn\u001b[39;00m result\n\u001b[1;32m---> 20\u001b[0m rates_10_5 \u001b[38;5;241m=\u001b[39m \u001b[43mrate_of_return\u001b[49m\u001b[43m(\u001b[49m\u001b[43mprices_cleaned\u001b[49m\u001b[43m,\u001b[49m\u001b[43m \u001b[49m\u001b[43mturnovers_10\u001b[49m\u001b[43m,\u001b[49m\u001b[43m \u001b[49m\u001b[38;5;241;43m5\u001b[39;49m\u001b[43m,\u001b[49m\u001b[43m \u001b[49m\u001b[38;5;241;43m10\u001b[39;49m\u001b[43m)\u001b[49m\n",
      "Cell \u001b[1;32mIn[12], line 15\u001b[0m, in \u001b[0;36mrate_of_return\u001b[1;34m(df, turn, investment, window)\u001b[0m\n\u001b[0;32m     13\u001b[0m                 return_values\u001b[38;5;241m.\u001b[39mappend(np\u001b[38;5;241m.\u001b[39mnan)\n\u001b[0;32m     14\u001b[0m             \u001b[38;5;28;01melif\u001b[39;00m \u001b[38;5;129;01mnot\u001b[39;00m pd\u001b[38;5;241m.\u001b[39misna(turn[col]\u001b[38;5;241m.\u001b[39miloc[i]) \u001b[38;5;129;01mand\u001b[39;00m i \u001b[38;5;241m+\u001b[39m investment \u001b[38;5;241m<\u001b[39m\u001b[38;5;241m=\u001b[39m \u001b[38;5;28mlen\u001b[39m(df):\n\u001b[1;32m---> 15\u001b[0m                 return_values\u001b[38;5;241m.\u001b[39mappend((\u001b[43mdf\u001b[49m\u001b[43m[\u001b[49m\u001b[43mcol\u001b[49m\u001b[43m]\u001b[49m\u001b[38;5;241;43m.\u001b[39;49m\u001b[43miloc\u001b[49m\u001b[43m[\u001b[49m\u001b[43mi\u001b[49m\u001b[43m \u001b[49m\u001b[38;5;241;43m+\u001b[39;49m\u001b[43m \u001b[49m\u001b[43minvestment\u001b[49m\u001b[43m]\u001b[49m\u001b[43m \u001b[49m\u001b[38;5;241;43m-\u001b[39;49m\u001b[43m \u001b[49m\u001b[43mdf\u001b[49m\u001b[43m[\u001b[49m\u001b[43mcol\u001b[49m\u001b[43m]\u001b[49m\u001b[38;5;241;43m.\u001b[39;49m\u001b[43miloc\u001b[49m\u001b[43m[\u001b[49m\u001b[43mi\u001b[49m\u001b[43m]\u001b[49m)\u001b[38;5;241m/\u001b[39mdf[col]\u001b[38;5;241m.\u001b[39miloc[i]) \n\u001b[0;32m     16\u001b[0m         result[col] \u001b[38;5;241m=\u001b[39m pd\u001b[38;5;241m.\u001b[39mSeries(return_values)\u001b[38;5;241m.\u001b[39mreset_index(drop\u001b[38;5;241m=\u001b[39m\u001b[38;5;28;01mTrue\u001b[39;00m)\n\u001b[0;32m     18\u001b[0m \u001b[38;5;28;01mreturn\u001b[39;00m result\n",
      "\u001b[1;31mTypeError\u001b[0m: unsupported operand type(s) for -: 'str' and 'str'"
     ]
    }
   ],
   "source": [
    "## Stopa zwrotu = ((wartość końcowa - wartośc początkowa)/ wartość początkowa )  \n",
    "\n",
    "def rate_of_return(df, turn, investment, window): # argumenty : ramka z cenami zamknięcia, ramka z maksymalnymi zwrotami, okres inwestycji, okres referencyjny\n",
    "    result = pd.DataFrame(columns=df.columns)\n",
    "\n",
    "    for col in df.columns:\n",
    "        if col == 'Date':\n",
    "            result['Date'] = df['Date'][window+investment:].reset_index(drop=True) # przesuwamy daty o okres inwestycji ponieważ wtedy stopy zwrotu zapiszą się w ostatni dzień inwestycji \n",
    "        else:\n",
    "            return_values = []\n",
    "            for i in range(len(df)- window):\n",
    "                if pd.isna(turn[col].iloc[i]):\n",
    "                    return_values.append(np.nan)\n",
    "                elif not pd.isna(turn[col].iloc[i]) and i + investment <= len(df):\n",
    "                    return_values.append((df[col].iloc[i + investment] - df[col].iloc[i])/df[col].iloc[i]) \n",
    "            result[col] = pd.Series(return_values).reset_index(drop=True)\n",
    "  \n",
    "    return result\n",
    "\n",
    "rates_10_5 = rate_of_return(prices_cleaned, turnovers_10, 5, 10)"
   ]
  },
  {
   "cell_type": "code",
   "execution_count": 15,
   "metadata": {},
   "outputs": [
    {
     "data": {
      "text/plain": [
       "Date      datetime64[ns]\n",
       "01C:PL           float64\n",
       "01N:PL           float64\n",
       "06N:PL            object\n",
       "08N:PL           float64\n",
       "               ...      \n",
       "ZRX:PL           float64\n",
       "ZUE:PL           float64\n",
       "ZUK:PL           float64\n",
       "ZWC:PL           float64\n",
       "ZWG:PL            object\n",
       "Length: 1320, dtype: object"
      ]
     },
     "execution_count": 15,
     "metadata": {},
     "output_type": "execute_result"
    }
   ],
   "source": [
    "prices_cleaned.dtypes"
   ]
  }
 ],
 "metadata": {
  "kernelspec": {
   "display_name": "myenv",
   "language": "python",
   "name": "python3"
  },
  "language_info": {
   "codemirror_mode": {
    "name": "ipython",
    "version": 3
   },
   "file_extension": ".py",
   "mimetype": "text/x-python",
   "name": "python",
   "nbconvert_exporter": "python",
   "pygments_lexer": "ipython3",
   "version": "3.9.19"
  }
 },
 "nbformat": 4,
 "nbformat_minor": 2
}
