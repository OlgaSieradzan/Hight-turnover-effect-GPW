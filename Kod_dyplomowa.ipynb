{
 "cells": [
  {
   "cell_type": "markdown",
   "metadata": {},
   "source": [
    "# Projekt dyplomowy\n",
    "## Olga Sieradzan"
   ]
  },
  {
   "cell_type": "markdown",
   "metadata": {},
   "source": [
    "## Pobór danych"
   ]
  },
  {
   "cell_type": "code",
   "execution_count": 20,
   "metadata": {},
   "outputs": [],
   "source": [
    "import pandas as pd\n",
    "import numpy as np\n",
    "import matplotlib.pyplot as plt\n",
    "\n",
    "file_path1 = \"C:/Users/olgas/OneDrive/Pulpit/studia/Praca dyplomowa/Dane/GPW day colse adj USD.xlsx\"\n",
    "file_path2 = \"C:/Users/olgas/OneDrive/Pulpit/studia/Praca dyplomowa/Dane/GPW day turnover USD.xlsx\"\n",
    "\n",
    "prices = pd.read_excel(file_path1)\n",
    "turnovers = pd.read_excel(file_path2)"
   ]
  },
  {
   "cell_type": "markdown",
   "metadata": {},
   "source": [
    "## Czyszczenie danych"
   ]
  },
  {
   "cell_type": "code",
   "execution_count": 21,
   "metadata": {},
   "outputs": [],
   "source": [
    "def clean_data(df, determinant) :\n",
    "    missing_values = df[df[determinant].isna()]['Date'].tolist() #Stworzenie listy gdzie np. KGHM nie ma odczytów z giełdy\n",
    "    prices_cl = prices[~prices['Date'].isin(missing_values)]\n",
    "    turnovers_cl = turnovers[~turnovers['Date'].isin(missing_values)]\n",
    "    return prices_cl, turnovers_cl\n",
    "\n",
    "prices_cleaned, turnovers_cleaned = clean_data(prices, 'KGH:PL') # Zapisane wyników ( ubyło 209 wierszy )"
   ]
  },
  {
   "cell_type": "markdown",
   "metadata": {},
   "source": [
    "## Wyznaczenie maksymalnych obrotów w okresie referencyjnym"
   ]
  },
  {
   "cell_type": "code",
   "execution_count": 3,
   "metadata": {},
   "outputs": [],
   "source": [
    "def max_turnover(df, window):\n",
    "    result = pd.DataFrame(columns=df.columns) # Pusty df do wypełnienia\n",
    "       \n",
    "    for col in df.columns:\n",
    "        if col == 'Date':\n",
    "            result['Date'] = df['Date'][window-1:].reset_index(drop=True)\n",
    "        else:\n",
    "            \n",
    "            max_values = [] # Pusta lista którą póżniej wypełnimy maksymalnymi wartościami\n",
    "            for i in range(len(df) - window + 1): # Indeksowanie od 0 dlatego +1\n",
    "                window_data = df[col][i:i+window] # Wybieram dane np. od 0 do 19 \n",
    "                if window_data.isna().any():\n",
    "                    max_values.append(np.nan) # Jeżeli w tych 20 danych jest NA to dodaje NA\n",
    "                else:\n",
    "                    max_values.append(window_data.max()) # W przeciwnym przypadku dodaje maksymalną wartośc z tych np. 20 dni\n",
    "            \n",
    "            result[col] = pd.Series(max_values)# Zapisujemy obliczone wartości do nowej kolumny\n",
    "    \n",
    "    return result\n",
    "\n",
    "turnovers_20 = max_turnover(turnovers_cleaned, 20)\n",
    "turnovers_10 = max_turnover(turnovers_cleaned, 10)\n",
    "turnovers_50 = max_turnover(turnovers_cleaned, 50)\n",
    "\n",
    "\n",
    "\n"
   ]
  },
  {
   "cell_type": "markdown",
   "metadata": {},
   "source": [
    "## Wyznaczenie iloczynów obrót / obrót max"
   ]
  },
  {
   "cell_type": "code",
   "execution_count": 7,
   "metadata": {},
   "outputs": [],
   "source": [
    "def date_max_turnovers(df, turn, window): # argimenty to : pierwotna tabela/ taleba z maxami / okres referencyjny\n",
    "    result = pd.DataFrame(columns=df.columns) # Pusty df do wypełnienia\n",
    "    \n",
    "   \n",
    "    \n",
    "    for col in df.columns:\n",
    "        if col == 'Date':\n",
    "            result['Date'] = df['Date'][window:].reset_index(drop=True)\n",
    "        else:\n",
    "            max_values = [] # max values na początku każdej iteracji po kolumnach powinna być pusta\n",
    "            for i in range(len(df)- window):\n",
    "                if df[col].iloc[window] > turn[col].iloc[i]:\n",
    "                    max_values.append(df[col].iloc[window]/turn[col].iloc[i])\n",
    "                else :\n",
    "                    max_values.append(np.nan)\n",
    "            result[col] = pd.Series(max_values).reset_index(drop=True)\n",
    "  \n",
    "    return result\n",
    "\n",
    "result_20 = date_max_turnovers(turnovers_cleaned, turnovers_20, 20)\n",
    "result_10 = date_max_turnovers(turnovers_cleaned, turnovers_10, 10)\n",
    "result_50 = date_max_turnovers(turnovers_cleaned, turnovers_50, 50)\n",
    "\n",
    "\n"
   ]
  },
  {
   "cell_type": "markdown",
   "metadata": {},
   "source": [
    "## Wyznaczenie stóp zwrotu różne strategie\n"
   ]
  },
  {
   "cell_type": "code",
   "execution_count": 22,
   "metadata": {},
   "outputs": [
    {
     "name": "stderr",
     "output_type": "stream",
     "text": [
      "C:\\Users\\olgas\\AppData\\Local\\Temp\\ipykernel_20904\\2247678547.py:3: FutureWarning: DataFrame.applymap has been deprecated. Use DataFrame.map instead.\n",
      "  prices_cleaned.iloc[:, 1:] = prices_cleaned.iloc[:, 1:].applymap(lambda x: pd.to_numeric(x, errors='coerce')) # problem z danymi, czyta jako str czasmi, argument errors pozwala zaminić wartość niezamienialną na liczba na NAN\n"
     ]
    }
   ],
   "source": [
    "## Stopa zwrotu = ((wartość końcowa - wartośc początkowa)/ wartość początkowa )  \n",
    "\n",
    "prices_cleaned.iloc[:, 1:] = prices_cleaned.iloc[:, 1:].applymap(lambda x: pd.to_numeric(x, errors='coerce')) # problem z danymi, czyta jako str czasmi, argument errors pozwala zaminić wartość niezamienialną na liczba na NAN\n",
    "\n",
    "def rate_of_return(df, turn, investment, window): # argumenty : ramka z cenami zamknięcia, ramka z obrót/obrót max zwrotami, okres inwestycji, okres referencyjny\n",
    "    result = pd.DataFrame(columns=df.columns)\n",
    "\n",
    "    for col in df.columns:\n",
    "        if col == 'Date':\n",
    "            result['Date'] = df['Date'][window+investment:].reset_index(drop=True) # przesuwamy daty o okres inwestycji ponieważ wtedy stopy zwrotu zapiszą się w ostatni dzień inwestycji \n",
    "        else:\n",
    "            return_values = []\n",
    "            for i in range(len(df)- window):\n",
    "                if pd.isna(turn[col].iloc[i]):\n",
    "                    return_values.append(np.nan)\n",
    "                elif not pd.isna(turn[col].iloc[i]) and i + investment <= len(df) and not pd.isna(df[col].iloc[i]) and not pd.isna(df[col].iloc[i + investment]):\n",
    "                    return_values.append((df[col].iloc[i + investment] - df[col].iloc[i])/df[col].iloc[i]) \n",
    "            result[col] = pd.Series(return_values).reset_index(drop=True)\n",
    "  \n",
    "    return result\n",
    "\n",
    "rates_10_5 = rate_of_return(prices_cleaned, result_10, 5, 10)"
   ]
  },
  {
   "cell_type": "code",
   "execution_count": 12,
   "metadata": {},
   "outputs": [
    {
     "name": "stdout",
     "output_type": "stream",
     "text": [
      "String values in '06N:PL': Series([], Name: 06N:PL, dtype: float64)\n",
      "String values in 'ZWG:PL': Series([], Name: ZWG:PL, dtype: float64)\n"
     ]
    }
   ],
   "source": [
    "\n"
   ]
  }
 ],
 "metadata": {
  "kernelspec": {
   "display_name": "myenv",
   "language": "python",
   "name": "python3"
  },
  "language_info": {
   "codemirror_mode": {
    "name": "ipython",
    "version": 3
   },
   "file_extension": ".py",
   "mimetype": "text/x-python",
   "name": "python",
   "nbconvert_exporter": "python",
   "pygments_lexer": "ipython3",
   "version": "3.9.19"
  }
 },
 "nbformat": 4,
 "nbformat_minor": 2
}
