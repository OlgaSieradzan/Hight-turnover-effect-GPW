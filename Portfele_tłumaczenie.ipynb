{
 "cells": [
  {
   "cell_type": "markdown",
   "metadata": {},
   "source": [
    "# Obliczanie zwrotu z inwestycji\n"
   ]
  },
  {
   "cell_type": "markdown",
   "metadata": {},
   "source": [
    "W tej części projektu, na podstawie sygnałów generwanych przez poprzedni kod pythona obliczone zostaną dzienne stopy zwrotu z rozważanych strategii"
   ]
  },
  {
   "cell_type": "code",
   "execution_count": 7,
   "metadata": {},
   "outputs": [],
   "source": [
    "### BIBLIOTEKI ###\n",
    "import pandas as pd\n",
    "import numpy as np\n",
    "import matplotlib.pyplot as plt\n",
    "\n",
    "### ŚCIEŻKI ##\n",
    "file_path1 = \"C:/Users/olgas/OneDrive/Documents/GitHub/Hight-turnover-effect-GPW/rates_data/rates_data.xlsx\"\n",
    "file_path2 = \"C:/Users/olgas/OneDrive/Documents/GitHub/Hight-turnover-effect-GPW/prices_cleaned.xlsx\"\n",
    "file_path3 = \"C:/Users/olgas/OneDrive/Documents/GitHub/Hight-turnover-effect-GPW/GPW capitalization USD mies.xlsx\"\n",
    "file_path4 = \"C:/Users/olgas/OneDrive/Documents/GitHub/Hight-turnover-effect-GPW/zestawienie nazw.xlsx\"\n",
    "\n"
   ]
  },
  {
   "cell_type": "markdown",
   "metadata": {},
   "source": [
    "## Wczytywanie danych\n"
   ]
  },
  {
   "cell_type": "markdown",
   "metadata": {},
   "source": [
    "Sygnały są zapisane w 15 strategiach (każda w osobnym arkuszu w pliku excel). Odczytuje wszytskiie do słownika ramek danych\n"
   ]
  },
  {
   "cell_type": "code",
   "execution_count": 8,
   "metadata": {},
   "outputs": [
    {
     "name": "stderr",
     "output_type": "stream",
     "text": [
      "C:\\Users\\olgas\\AppData\\Local\\Temp\\ipykernel_22236\\322302912.py:3: FutureWarning: DataFrame.applymap has been deprecated. Use DataFrame.map instead.\n",
      "  prices.iloc[:, 1:] = prices.iloc[:, 1:].applymap(lambda x: pd.to_numeric(x, errors='coerce'))\n"
     ]
    }
   ],
   "source": [
    "prices = pd.read_excel(file_path2)\n",
    "\n",
    "prices.iloc[:, 1:] = prices.iloc[:, 1:].applymap(lambda x: pd.to_numeric(x, errors='coerce'))\n",
    "\n",
    "capitalization = pd.read_excel(file_path3)\n",
    "\n",
    "accuracy = pd.read_excel(file_path4)\n",
    "\n",
    "\n",
    "sheets_dict = pd.read_excel(file_path1, sheet_name=None)\n",
    "\n",
    "sygnals = {} # Pusty słownik do zappisywania \n",
    "for sheet_name, dataframe in sheets_dict.items():\n",
    "    sygnals[sheet_name] = dataframe\n",
    "\n",
    "# Odwoływanie sie do konkretnych ramek danych -> sygnals['rates_10_1']"
   ]
  },
  {
   "cell_type": "markdown",
   "metadata": {},
   "source": [
    "## Dzienne stopy zwrotu "
   ]
  },
  {
   "cell_type": "code",
   "execution_count": null,
   "metadata": {},
   "outputs": [],
   "source": [
    "def daily_returns(df):\n",
    "    result = pd.DataFrame(columns=df.columns)  # Nowa ramka danych do przechowywania wyników\n",
    "\n",
    "    for col in df.columns:\n",
    "        if col == 'Date':\n",
    "            \n",
    "            result['Date'] = df['Date'][1:].reset_index(drop=True)\n",
    "        else:\n",
    "            # Oblicz dzienne stopy zwrotu\n",
    "            rates_values = []  # Pusta lista na dzienne stopy zwrotu\n",
    "            for i in range(len(df) - 1):\n",
    "                rate = (df[col].iloc[i + 1] - df[col].iloc[i]) / df[col].iloc[i]\n",
    "                rates_values.append(rate)  # Dodaj wynik do listy\n",
    "\n",
    "            result[col] = pd.Series(rates_values).reset_index(drop=True)\n",
    "\n",
    "    return result\n",
    "\n",
    "daily_returns = daily_returns(prices)"
   ]
  },
  {
   "cell_type": "markdown",
   "metadata": {},
   "source": [
    "## Ujednolicenie kolumn \n"
   ]
  },
  {
   "cell_type": "markdown",
   "metadata": {},
   "source": [
    "W badaniu potrzeba ujednolicić kolumny w ramkach danych z kapitalizacją i cenami i sygnałami\n"
   ]
  },
  {
   "cell_type": "code",
   "execution_count": 9,
   "metadata": {},
   "outputs": [],
   "source": [
    "columns_to_remove = accuracy.loc[accuracy['czy zgodnosc'].isnull(), 'Profesora'].tolist() # Kolumny których nie ma w mojej tabeli do usuniecia \n",
    "\n",
    "capitalizationv2 = capitalization.drop(columns=columns_to_remove) # usunięcie wartości których ja u siebie nie mam \n",
    "\n",
    "capitalizationv3 = capitalizationv2[prices.columns] # ustawienie w tej samej kolejności kolumny\n",
    "\n"
   ]
  },
  {
   "cell_type": "markdown",
   "metadata": {},
   "source": [
    "## Okres inwestycji - 1 dzień \n"
   ]
  },
  {
   "cell_type": "markdown",
   "metadata": {},
   "source": [
    "W przypadku okresu sprzedaży równego 1 dzień, nie trzeba liczyć średnich dziennych stóp zwrotu z uwzględnieniem tego okresu \n"
   ]
  },
  {
   "cell_type": "code",
   "execution_count": null,
   "metadata": {},
   "outputs": [],
   "source": [
    "def one_day(df, price, kap_min, kap_max ):\n",
    "\n",
    "    result = pd.DataFrame()\n",
    "\n",
    "    for i in range(len(df)):\n",
    "        row_sum = 0\n",
    "        count = 0\n",
    "\n",
    "        for col in df.columns:\n",
    "            if col == 'Date':\n",
    "                result['Date'] = df['Date']\n",
    "            else:\n",
    "             \n",
    "                if df[col].iloc[i].isna() == False:\n",
    "                    \n",
    "                    if df[col].iloc[i] > price and kap_min <= df[col].iloc[i] <= kap_max:\n",
    "                        row_sum += df[col].iloc[i]\n",
    "                        count += 1\n",
    "        \n",
    "        result['Mean'].iloc[i] = row_sum/count\n",
    "        result['Count'].iloc[i] = count\n",
    "\n",
    "    return result\n",
    "\n",
    "\n",
    "\n",
    "    \n"
   ]
  }
 ],
 "metadata": {
  "kernelspec": {
   "display_name": "Python 3",
   "language": "python",
   "name": "python3"
  },
  "language_info": {
   "codemirror_mode": {
    "name": "ipython",
    "version": 3
   },
   "file_extension": ".py",
   "mimetype": "text/x-python",
   "name": "python",
   "nbconvert_exporter": "python",
   "pygments_lexer": "ipython3",
   "version": "3.12.4"
  }
 },
 "nbformat": 4,
 "nbformat_minor": 2
}
