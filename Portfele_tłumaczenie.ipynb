{
 "cells": [
  {
   "cell_type": "markdown",
   "metadata": {},
   "source": [
    "# Obliczanie zwrotu z inwestycji\n"
   ]
  },
  {
   "cell_type": "markdown",
   "metadata": {},
   "source": [
    "W tej części projektu, na podstawie sygnałów generwanych przez poprzedni kod pythona obliczone zostaną dzienne stopy zwrotu z rozważanych strategii"
   ]
  },
  {
   "cell_type": "code",
   "execution_count": 51,
   "metadata": {},
   "outputs": [],
   "source": [
    "### BIBLIOTEKI ###\n",
    "import pandas as pd\n",
    "import numpy as np\n",
    "import matplotlib.pyplot as plt\n",
    "\n",
    "### ŚCIEŻKI ##\n",
    "file_path1 = \"C:/Users/olgas/OneDrive/Documents/GitHub/Hight-turnover-effect-GPW/rates_data/rates_data.xlsx\"\n",
    "file_path2 = \"C:/Users/olgas/OneDrive/Documents/GitHub/Hight-turnover-effect-GPW/prices_cleaned.xlsx\"\n",
    "file_path3 = \"C:/Users/olgas/OneDrive/Documents/GitHub/Hight-turnover-effect-GPW/GPW capitalization USD mies.xlsx\"\n",
    "file_path4 = \"C:/Users/olgas/OneDrive/Documents/GitHub/Hight-turnover-effect-GPW/zestawienie nazw.xlsx\"\n",
    "\n"
   ]
  },
  {
   "cell_type": "markdown",
   "metadata": {},
   "source": [
    "## Wczytywanie danych\n"
   ]
  },
  {
   "cell_type": "markdown",
   "metadata": {},
   "source": [
    "Sygnały są zapisane w 15 strategiach (każda w osobnym arkuszu w pliku excel). Odczytuje wszytskiie do słownika ramek danych\n"
   ]
  },
  {
   "cell_type": "code",
   "execution_count": 52,
   "metadata": {},
   "outputs": [
    {
     "name": "stderr",
     "output_type": "stream",
     "text": [
      "C:\\Users\\olgas\\AppData\\Local\\Temp\\ipykernel_20748\\322302912.py:3: FutureWarning: DataFrame.applymap has been deprecated. Use DataFrame.map instead.\n",
      "  prices.iloc[:, 1:] = prices.iloc[:, 1:].applymap(lambda x: pd.to_numeric(x, errors='coerce'))\n"
     ]
    }
   ],
   "source": [
    "prices = pd.read_excel(file_path2)\n",
    "\n",
    "prices.iloc[:, 1:] = prices.iloc[:, 1:].applymap(lambda x: pd.to_numeric(x, errors='coerce'))\n",
    "\n",
    "capitalization = pd.read_excel(file_path3)\n",
    "\n",
    "accuracy = pd.read_excel(file_path4)\n",
    "\n",
    "\n",
    "sheets_dict = pd.read_excel(file_path1, sheet_name=None)\n",
    "\n",
    "sygnals = {} # Pusty słownik do zappisywania \n",
    "for sheet_name, dataframe in sheets_dict.items():\n",
    "    sygnals[sheet_name] = dataframe\n",
    "\n",
    "# Odwoływanie sie do konkretnych ramek danych -> sygnals['rates_10_1']"
   ]
  },
  {
   "cell_type": "markdown",
   "metadata": {},
   "source": [
    "## Dzienne stopy zwrotu "
   ]
  },
  {
   "cell_type": "code",
   "execution_count": 53,
   "metadata": {},
   "outputs": [],
   "source": [
    "def daily_returns(df):\n",
    "    result = pd.DataFrame(columns=df.columns)  # Nowa ramka danych do przechowywania wyników\n",
    "\n",
    "    for col in df.columns:\n",
    "        if col == 'Date':\n",
    "            \n",
    "            result['Date'] = df['Date'][1:].reset_index(drop=True)\n",
    "        else:\n",
    "            # Oblicz dzienne stopy zwrotu\n",
    "            rates_values = []  # Pusta lista na dzienne stopy zwrotu\n",
    "            for i in range(len(df) - 1):\n",
    "                rate = (df[col].iloc[i + 1] - df[col].iloc[i]) / df[col].iloc[i]\n",
    "                rates_values.append(rate)  # Dodaj wynik do listy\n",
    "\n",
    "            result[col] = pd.Series(rates_values).reset_index(drop=True)\n",
    "\n",
    "    return result\n",
    "\n",
    "daily_returns = daily_returns(prices)"
   ]
  },
  {
   "cell_type": "markdown",
   "metadata": {},
   "source": [
    "## Ujednolicenie kolumn \n"
   ]
  },
  {
   "cell_type": "markdown",
   "metadata": {},
   "source": [
    "W badaniu potrzeba ujednolicić kolumny w ramkach danych z kapitalizacją i cenami i sygnałami\n"
   ]
  },
  {
   "cell_type": "code",
   "execution_count": null,
   "metadata": {},
   "outputs": [
    {
     "ename": "KeyError",
     "evalue": "\"['Date'] not in index\"",
     "output_type": "error",
     "traceback": [
      "\u001b[1;31m---------------------------------------------------------------------------\u001b[0m",
      "\u001b[1;31mKeyError\u001b[0m                                  Traceback (most recent call last)",
      "Cell \u001b[1;32mIn[54], line 5\u001b[0m\n\u001b[0;32m      1\u001b[0m columns_to_remove \u001b[38;5;241m=\u001b[39m accuracy\u001b[38;5;241m.\u001b[39mloc[accuracy[\u001b[38;5;124m'\u001b[39m\u001b[38;5;124mczy zgodnosc\u001b[39m\u001b[38;5;124m'\u001b[39m]\u001b[38;5;241m.\u001b[39misnull(), \u001b[38;5;124m'\u001b[39m\u001b[38;5;124mProfesora\u001b[39m\u001b[38;5;124m'\u001b[39m]\u001b[38;5;241m.\u001b[39mtolist() \u001b[38;5;66;03m# Kolumny których nie ma w mojej tabeli do usuniecia \u001b[39;00m\n\u001b[0;32m      3\u001b[0m capitalizationv2 \u001b[38;5;241m=\u001b[39m capitalization\u001b[38;5;241m.\u001b[39mdrop(columns\u001b[38;5;241m=\u001b[39mcolumns_to_remove) \u001b[38;5;66;03m# usunięcie wartości których ja u siebie nie mam \u001b[39;00m\n\u001b[1;32m----> 5\u001b[0m capitalizationv3 \u001b[38;5;241m=\u001b[39m \u001b[43mcapitalizationv2\u001b[49m\u001b[43m[\u001b[49m\u001b[43mprices\u001b[49m\u001b[38;5;241;43m.\u001b[39;49m\u001b[43mcolumns\u001b[49m\u001b[43m]\u001b[49m \u001b[38;5;66;03m# ustawienie w tej samej kolejności kolumny\u001b[39;00m\n",
      "File \u001b[1;32mc:\\Users\\olgas\\AppData\\Local\\Programs\\Python\\Python313\\Lib\\site-packages\\pandas\\core\\frame.py:4108\u001b[0m, in \u001b[0;36mDataFrame.__getitem__\u001b[1;34m(self, key)\u001b[0m\n\u001b[0;32m   4106\u001b[0m     \u001b[38;5;28;01mif\u001b[39;00m is_iterator(key):\n\u001b[0;32m   4107\u001b[0m         key \u001b[38;5;241m=\u001b[39m \u001b[38;5;28mlist\u001b[39m(key)\n\u001b[1;32m-> 4108\u001b[0m     indexer \u001b[38;5;241m=\u001b[39m \u001b[38;5;28;43mself\u001b[39;49m\u001b[38;5;241;43m.\u001b[39;49m\u001b[43mcolumns\u001b[49m\u001b[38;5;241;43m.\u001b[39;49m\u001b[43m_get_indexer_strict\u001b[49m\u001b[43m(\u001b[49m\u001b[43mkey\u001b[49m\u001b[43m,\u001b[49m\u001b[43m \u001b[49m\u001b[38;5;124;43m\"\u001b[39;49m\u001b[38;5;124;43mcolumns\u001b[39;49m\u001b[38;5;124;43m\"\u001b[39;49m\u001b[43m)\u001b[49m[\u001b[38;5;241m1\u001b[39m]\n\u001b[0;32m   4110\u001b[0m \u001b[38;5;66;03m# take() does not accept boolean indexers\u001b[39;00m\n\u001b[0;32m   4111\u001b[0m \u001b[38;5;28;01mif\u001b[39;00m \u001b[38;5;28mgetattr\u001b[39m(indexer, \u001b[38;5;124m\"\u001b[39m\u001b[38;5;124mdtype\u001b[39m\u001b[38;5;124m\"\u001b[39m, \u001b[38;5;28;01mNone\u001b[39;00m) \u001b[38;5;241m==\u001b[39m \u001b[38;5;28mbool\u001b[39m:\n",
      "File \u001b[1;32mc:\\Users\\olgas\\AppData\\Local\\Programs\\Python\\Python313\\Lib\\site-packages\\pandas\\core\\indexes\\base.py:6200\u001b[0m, in \u001b[0;36mIndex._get_indexer_strict\u001b[1;34m(self, key, axis_name)\u001b[0m\n\u001b[0;32m   6197\u001b[0m \u001b[38;5;28;01melse\u001b[39;00m:\n\u001b[0;32m   6198\u001b[0m     keyarr, indexer, new_indexer \u001b[38;5;241m=\u001b[39m \u001b[38;5;28mself\u001b[39m\u001b[38;5;241m.\u001b[39m_reindex_non_unique(keyarr)\n\u001b[1;32m-> 6200\u001b[0m \u001b[38;5;28;43mself\u001b[39;49m\u001b[38;5;241;43m.\u001b[39;49m\u001b[43m_raise_if_missing\u001b[49m\u001b[43m(\u001b[49m\u001b[43mkeyarr\u001b[49m\u001b[43m,\u001b[49m\u001b[43m \u001b[49m\u001b[43mindexer\u001b[49m\u001b[43m,\u001b[49m\u001b[43m \u001b[49m\u001b[43maxis_name\u001b[49m\u001b[43m)\u001b[49m\n\u001b[0;32m   6202\u001b[0m keyarr \u001b[38;5;241m=\u001b[39m \u001b[38;5;28mself\u001b[39m\u001b[38;5;241m.\u001b[39mtake(indexer)\n\u001b[0;32m   6203\u001b[0m \u001b[38;5;28;01mif\u001b[39;00m \u001b[38;5;28misinstance\u001b[39m(key, Index):\n\u001b[0;32m   6204\u001b[0m     \u001b[38;5;66;03m# GH 42790 - Preserve name from an Index\u001b[39;00m\n",
      "File \u001b[1;32mc:\\Users\\olgas\\AppData\\Local\\Programs\\Python\\Python313\\Lib\\site-packages\\pandas\\core\\indexes\\base.py:6252\u001b[0m, in \u001b[0;36mIndex._raise_if_missing\u001b[1;34m(self, key, indexer, axis_name)\u001b[0m\n\u001b[0;32m   6249\u001b[0m     \u001b[38;5;28;01mraise\u001b[39;00m \u001b[38;5;167;01mKeyError\u001b[39;00m(\u001b[38;5;124mf\u001b[39m\u001b[38;5;124m\"\u001b[39m\u001b[38;5;124mNone of [\u001b[39m\u001b[38;5;132;01m{\u001b[39;00mkey\u001b[38;5;132;01m}\u001b[39;00m\u001b[38;5;124m] are in the [\u001b[39m\u001b[38;5;132;01m{\u001b[39;00maxis_name\u001b[38;5;132;01m}\u001b[39;00m\u001b[38;5;124m]\u001b[39m\u001b[38;5;124m\"\u001b[39m)\n\u001b[0;32m   6251\u001b[0m not_found \u001b[38;5;241m=\u001b[39m \u001b[38;5;28mlist\u001b[39m(ensure_index(key)[missing_mask\u001b[38;5;241m.\u001b[39mnonzero()[\u001b[38;5;241m0\u001b[39m]]\u001b[38;5;241m.\u001b[39munique())\n\u001b[1;32m-> 6252\u001b[0m \u001b[38;5;28;01mraise\u001b[39;00m \u001b[38;5;167;01mKeyError\u001b[39;00m(\u001b[38;5;124mf\u001b[39m\u001b[38;5;124m\"\u001b[39m\u001b[38;5;132;01m{\u001b[39;00mnot_found\u001b[38;5;132;01m}\u001b[39;00m\u001b[38;5;124m not in index\u001b[39m\u001b[38;5;124m\"\u001b[39m)\n",
      "\u001b[1;31mKeyError\u001b[0m: \"['Date'] not in index\""
     ]
    }
   ],
   "source": [
    "columns_to_remove = accuracy.loc[accuracy['czy zgodnosc'].isnull(), 'Profesora'].tolist() # Kolumny których nie ma w mojej tabeli do usuniecia \n",
    "\n",
    "capitalizationv2 = capitalization.drop(columns=columns_to_remove) # usunięcie wartości których ja u siebie nie mam \n",
    "\n",
    "capitalizationv3 = capitalizationv2[prices.columns] # ustawienie w tej samej kolejności kolumny\n",
    "\n"
   ]
  },
  {
   "cell_type": "code",
   "execution_count": null,
   "metadata": {},
   "outputs": [
    {
     "data": {
      "text/plain": [
       "['INNOVATOR:PL',\n",
       " 'INVESTORMS:PL',\n",
       " 'MWIG40:PL',\n",
       " 'MWIG40DVP:PL',\n",
       " 'MWIG40TR:PL',\n",
       " 'NCINDEX30:PL',\n",
       " 'NCINDEX:PL',\n",
       " 'NCXLIFESCI:PL',\n",
       " 'NIF:PL',\n",
       " 'RESPECT:PL',\n",
       " 'SWIG80:PL',\n",
       " 'SWIG80DVP:PL',\n",
       " 'SWIG80TR:PL',\n",
       " 'TECHWIG:PL',\n",
       " 'WIG-BANKI:PL',\n",
       " 'WIG-BUDOW:PL',\n",
       " 'WIG-CEE:PL',\n",
       " 'WIG-CHEMIA:PL',\n",
       " 'WIG-ENERG:PL',\n",
       " 'WIG-ESG:PL',\n",
       " 'WIG-GAMES5:PL',\n",
       " 'WIG-GORNIC:PL',\n",
       " 'WIG-GRY:PL',\n",
       " 'WIG-INFO:PL',\n",
       " 'WIG-LEKI:PL',\n",
       " 'WIG-MEDIA:PL',\n",
       " 'WIG-MOTO:PL',\n",
       " 'WIG-MS-BAS:PL',\n",
       " 'WIG-MS-FIN:PL',\n",
       " 'WIG-MS-PET:PL',\n",
       " 'WIG-NRCHOM:PL',\n",
       " 'WIG-ODZIEZ:PL',\n",
       " 'WIG-PALIWA:PL',\n",
       " 'WIG-PLUS:PL',\n",
       " 'WIG-POLAND:PL',\n",
       " 'WIG-SPOZYW:PL',\n",
       " 'WIG-TECH:PL',\n",
       " 'WIG-TELKOM:PL',\n",
       " 'WIG-UKRAIN:PL',\n",
       " 'WIG140:PL',\n",
       " 'WIG20:PL',\n",
       " 'WIG20LEV:PL',\n",
       " 'WIG20SHORT:PL',\n",
       " 'WIG20TR:PL',\n",
       " 'WIG250:PL',\n",
       " 'WIG30:PL',\n",
       " 'WIG30LEV:PL',\n",
       " 'WIG30TR:PL',\n",
       " 'WIG50:PL',\n",
       " 'WIG:PL',\n",
       " 'WIGDIV:PL',\n",
       " 'WIGTECHTR:PL']"
      ]
     },
     "execution_count": 42,
     "metadata": {},
     "output_type": "execute_result"
    }
   ],
   "source": [
    "columns_to_remove"
   ]
  },
  {
   "cell_type": "markdown",
   "metadata": {},
   "source": [
    "## Okres inwestycji - 1 dzień \n"
   ]
  },
  {
   "cell_type": "markdown",
   "metadata": {},
   "source": [
    "W przypadku okresu sprzedaży równego 1 dzień, nie trzeba liczyć średniuch dziennych stóp zwrotu z uwzględnieniem tego okresu \n"
   ]
  },
  {
   "cell_type": "code",
   "execution_count": null,
   "metadata": {},
   "outputs": [],
   "source": [
    "def "
   ]
  }
 ],
 "metadata": {
  "kernelspec": {
   "display_name": "Python 3",
   "language": "python",
   "name": "python3"
  },
  "language_info": {
   "codemirror_mode": {
    "name": "ipython",
    "version": 3
   },
   "file_extension": ".py",
   "mimetype": "text/x-python",
   "name": "python",
   "nbconvert_exporter": "python",
   "pygments_lexer": "ipython3",
   "version": "3.13.0"
  }
 },
 "nbformat": 4,
 "nbformat_minor": 2
}
